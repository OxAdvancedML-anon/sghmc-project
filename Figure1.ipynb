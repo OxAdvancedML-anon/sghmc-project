{
 "cells": [
  {
   "cell_type": "code",
   "execution_count": null,
   "metadata": {},
   "outputs": [],
   "source": [
    "%matplotlib auto"
   ]
  },
  {
   "cell_type": "code",
   "execution_count": null,
   "metadata": {},
   "outputs": [],
   "source": [
    "import matplotlib.pyplot as plt\n",
    "import numpy as np\n",
    "import pyro.infer\n",
    "import torch\n",
    "from numpy import exp\n",
    "\n",
    "from tqdm import tqdm\n",
    "\n",
    "from algorithms.hmc import HMC\n",
    "from algorithms.sghmc import SGHMC\n",
    "from algorithms.sgld import SGLD\n",
    "from algorithms.sghmc_alt import SGHMCAlt\n",
    "\n",
    "\n",
    "def potential_energy(x):\n",
    "    return -2 * x ** 2 + x ** 4\n",
    "\n",
    "def potential_grad(x):\n",
    "    return - 4 * x + 4 * x ** 3\n",
    "\n",
    "def noisy_grad(x):\n",
    "    return potential_grad(x) + 2*np.random.normal(0,1)\n",
    "\n",
    "def run_simulation(sample_count, initial_params, step_size, posterior, mass, do_mh):\n",
    "    if do_mh:\n",
    "        hmc = HMC(posterior, mass=mass, step_size=step_size, step_count=50, potential_energy=potential_energy)\n",
    "    else:\n",
    "        hmc = HMC(posterior, mass=mass, step_size=step_size, step_count=50)\n",
    "    param = initial_params\n",
    "    samples = [param]\n",
    "    \n",
    "    for _ in tqdm(range(sample_count)):\n",
    "        param = hmc.sample(param)\n",
    "        samples.append(param)\n",
    "    return samples\n",
    "\n",
    "def run_simulation_sghmc(sample_count, initial_params, step_size, posterior, mass, C, B):\n",
    "    sghmc = SGHMC(posterior, mass=mass, step_size=step_size, step_count=5, friction_term=C, noise_model_estimate=lambda x: B*np.eye(initial_params.size))\n",
    "    param = initial_params\n",
    "    samples = [param]\n",
    "\n",
    "    for _ in tqdm(range(sample_count)):\n",
    "        param = sghmc.sample(param)\n",
    "        samples.append(param)\n",
    "    return samples\n",
    "\n",
    "def run_simulation_sgld(sample_count, initial_params, posterior):    \n",
    "    sgld = SGLD(eps_t, posterior)\n",
    "    param = initial_params\n",
    "    samples = [param]\n",
    "    \n",
    "    for _ in tqdm(range(sample_count)):\n",
    "        param = sgld.sample(param)\n",
    "        samples.append(param)\n",
    "    return np.array(samples)\n",
    "\n",
    "\n",
    "def plot_graph(x, y, step_size, label=\"\",linestyle=None):\n",
    "    y = y / (y.sum() * step_size)\n",
    "    if linestyle==None:\n",
    "        plt.plot(x, y, label=label)\n",
    "    else:\n",
    "        plt.plot(x, y, linestyle, label=label, lw=1)"
   ]
  },
  {
   "cell_type": "code",
   "execution_count": null,
   "metadata": {},
   "outputs": [],
   "source": [
    "NUM_SAMPLES = 10000\n",
    "\n",
    "samples_hmc_no_mh = run_simulation(\n",
    "    sample_count=NUM_SAMPLES, initial_params=np.array([1.0]), step_size=0.1,\n",
    "    posterior=potential_grad, mass=np.array([[1.0]]), do_mh=False)\n",
    "\n",
    "samples_naive_no_mh = run_simulation(\n",
    "    sample_count=NUM_SAMPLES, initial_params=np.array([1.0]), step_size=0.1,\n",
    "    posterior=noisy_grad, mass=np.array([[1.0]]), do_mh=False)\n",
    "\n",
    "samples_hmc_mh = run_simulation(\n",
    "    sample_count=NUM_SAMPLES, initial_params=np.array([1.0]), step_size=0.1,\n",
    "    posterior=potential_grad, mass=np.array([[1.0]]), do_mh=True)\n",
    "\n",
    "samples_naive_mh = run_simulation(\n",
    "    sample_count=NUM_SAMPLES, initial_params=np.array([1.0]), step_size=0.1,\n",
    "    posterior=noisy_grad, mass=np.array([[1.0]]), do_mh=True)\n",
    "\n",
    "samples_sghmc = run_simulation_sghmc(\n",
    "    sample_count=NUM_SAMPLES, initial_params=np.array([1.0]), step_size=0.1,\n",
    "    posterior=noisy_grad, mass=np.array([[1.0]]),\n",
    "    C=np.array([[4]]), B=np.array([[0.2]]))"
   ]
  },
  {
   "cell_type": "code",
   "execution_count": null,
   "metadata": {},
   "outputs": [],
   "source": [
    "grid_size = 0.1\n",
    "grid = np.arange(-2, 2 + grid_size, grid_size)\n",
    "\n",
    "plot_graph(grid, exp(-potential_energy(grid)), grid_size, label=\"True Distribution\")\n",
    "\n",
    "ys, xs = np.histogram(samples_sghmc, bins=grid)\n",
    "xs = xs[:-1] + grid_size / 2\n",
    "plot_graph(xs, ys, grid_size, label=\"SGHMC\", linestyle=\"-g\")\n",
    "\n",
    "ys, xs = np.histogram(samples_naive_no_mh, bins=grid)\n",
    "xs = xs[:-1] + grid_size / 2\n",
    "plot_graph(xs, ys, grid_size, label=\"Naive SGHMC(no MH)\", linestyle=\"-.k\")\n",
    "\n",
    "ys, xs = np.histogram(samples_naive_mh, bins=grid)\n",
    "xs = xs[:-1] + grid_size / 2\n",
    "ys = ys*0.02\n",
    "plot_graph(xs, ys, grid_size, label=\"Naive SGHMC(With MH)\", linestyle=\"-k\")\n",
    "\n",
    "ys, xs = np.histogram(samples_hmc_no_mh, bins=grid)\n",
    "xs = xs[:-1] + grid_size / 2\n",
    "plot_graph(xs, ys, grid_size, label=\"HMC(no MH)\", linestyle=\"-b\")\n",
    "\n",
    "ys, xs = np.histogram(samples_hmc_mh, bins=grid)\n",
    "xs = xs[:-1] + grid_size / 2\n",
    "plot_graph(xs, ys, grid_size, label=\"HMC(with MH)\", linestyle=\"-m\")\n",
    "\n",
    "plt.legend()\n",
    "plt.show()"
   ]
  },
  {
   "cell_type": "markdown",
   "metadata": {},
   "source": [
    "# Figure 2"
   ]
  },
  {
   "cell_type": "code",
   "execution_count": null,
   "metadata": {},
   "outputs": [],
   "source": [
    "def potential_energy(x):\n",
    "    return  (x ** 2)/2\n",
    "\n",
    "def potential_grad(x):\n",
    "    return x\n",
    "\n",
    "def noisy_grad(x):\n",
    "    return potential_grad(x) + 2*np.random.normal(0,1)"
   ]
  },
  {
   "cell_type": "code",
   "execution_count": null,
   "metadata": {},
   "outputs": [],
   "source": [
    "noisy_hmc = HMC(noisy_grad, mass=np.array([[1]]), step_size=0.1, step_count=50)\n",
    "param = np.array(1)\n",
    "samples = []\n",
    "momentum = []\n",
    "for i in tqdm(range(300)):\n",
    "    param = noisy_hmc.sample(param, resample_momentum=False)\n",
    "    samples.append(param)\n",
    "    momentum.append(noisy_hmc.momentum)\n",
    "plt.scatter(samples, momentum, s=12, edgecolors='r', marker='^', facecolors='none', label=\"Noisy Hamiltonian Dynamics\")\n",
    "\n",
    "noisy_hmc = HMC(noisy_grad, mass=np.array([[1]]), step_size=0.1, step_count=50)\n",
    "param = np.array(1)\n",
    "samples = []\n",
    "momentum = []\n",
    "for i in tqdm(range(300)):\n",
    "    param = noisy_hmc.sample(param, resample_momentum=(i%50==0))\n",
    "    samples.append(param)\n",
    "    momentum.append(noisy_hmc.momentum)\n",
    "plt.scatter(samples, momentum, s=12, edgecolors='black', marker='x', facecolors='black', label=\"Noisy Hamiltonian Dynamics, resample every 50\")\n",
    "\n",
    "sghmc = SGHMC(noisy_grad, mass=np.array([[1]]), step_size=0.1, step_count=50, friction_term=np.array([[0.2]]), noise_model_estimate= lambda x: np.array([[0.2]]))\n",
    "param = np.array(1)\n",
    "samples = []\n",
    "momentum = []\n",
    "for i in tqdm(range(300)):\n",
    "    param = sghmc.sample(param, resample_momentum=False)\n",
    "    samples.append(param)\n",
    "    momentum.append(sghmc.momentum)\n",
    "plt.scatter(samples, momentum, s=12, edgecolors='lime', marker='o', facecolors='none', label=\"Noisy Hamiltonian Dynamics with Friction\")\n",
    "\n",
    "hmc = HMC(potential_grad, mass=np.array([[1]]), step_size=0.1, step_count=50)\n",
    "param = np.array(1)\n",
    "samples = []\n",
    "momentum = []\n",
    "for i in tqdm(range(300)):\n",
    "    param = hmc.sample(param, resample_momentum=False)\n",
    "    samples.append(param)\n",
    "    momentum.append(hmc.momentum)\n",
    "plt.scatter(samples, momentum, s=12, edgecolors='blue', marker='*', facecolors='none', label=\"Hamiltonian Dynamics\")\n",
    "plt.xlim(-10,10)\n",
    "plt.ylim(-10,10)\n",
    "plt.legend()\n",
    "plt.show()"
   ]
  },
  {
   "cell_type": "markdown",
   "metadata": {},
   "source": [
    "# Figure 3"
   ]
  },
  {
   "cell_type": "code",
   "execution_count": null,
   "metadata": {},
   "outputs": [],
   "source": [
    "import seaborn as sns"
   ]
  },
  {
   "cell_type": "code",
   "execution_count": null,
   "metadata": {},
   "outputs": [],
   "source": [
    "cov = np.array([[1,0.9],[0.9,1]])\n",
    "invcov = np.linalg.inv(cov)\n",
    "def potential_grad(theta):\n",
    "    return invcov.dot(theta)\n",
    "def noisy_grad(theta):\n",
    "    return potential_grad(theta) + np.random.normal(0, 1, 2)\n",
    "\n",
    "true_noise = lambda x: np.array([[1, 0.9], [0.9, 1]])"
   ]
  },
  {
   "cell_type": "code",
   "execution_count": null,
   "metadata": {},
   "outputs": [],
   "source": [
    "underlying = np.random.multivariate_normal(mean=np.zeros(2), cov=cov, size=10000)\n",
    "def plot_2d(samples):\n",
    "    sns.jointplot(samples[:,0], samples[:,1], kind='kde')\n",
    "plot_2d(underlying)"
   ]
  },
  {
   "cell_type": "code",
   "execution_count": null,
   "metadata": {},
   "outputs": [],
   "source": [
    "posterior=noisy_grad\n",
    "def sample_sgld(step_size, n_samples):\n",
    "    sgld = SGLD(lambda t: (0.1*step_size) + (0.9*step_size)*(1-(t/n_samples)), posterior)\n",
    "    param = np.zeros(2)\n",
    "    samples_sgld = [param]\n",
    "    for _ in tqdm(range(n_samples)):\n",
    "            param = sgld.sample(param)\n",
    "            samples_sgld.append(param)\n",
    "    samples_sgld = np.array(samples_sgld)\n",
    "    return samples_sgld\n",
    "\n",
    "def sample_sghmc_alt(alpha, beta, eta, n_samples):\n",
    "    sghmc = SGHMCAlt(posterior, np.identity(2), alpha, beta, eta)\n",
    "    param = np.zeros(2)\n",
    "    samples_sghmc = [param]      \n",
    "    for _ in tqdm(range(n_samples)):\n",
    "            param = sghmc.sample(param)\n",
    "            samples_sghmc.append(param)\n",
    "    samples_sghmc = np.array(samples_sghmc)\n",
    "    return samples_sghmc\n",
    "\n",
    "def sample_sghmc(step_size, noise_est, n_samples):\n",
    "    noise = noise_est*step_size/2\n",
    "    sghmc = SGHMC(posterior, mass=np.identity(2), step_size=step_size, step_count=1, friction_term=2*noise*np.eye(2), noise_model_estimate=lambda x: noise*np.eye(2))\n",
    "    param = np.zeros(2)\n",
    "    samples_sghmc = [param]      \n",
    "    for _ in tqdm(range(n_samples)):\n",
    "            param = sghmc.sample(param, resample_momentum=False)\n",
    "            samples_sghmc.append(param)\n",
    "    samples_sghmc = np.array(samples_sghmc)\n",
    "    return samples_sghmc"
   ]
  },
  {
   "cell_type": "markdown",
   "metadata": {},
   "source": [
    "## Figure 3a"
   ]
  },
  {
   "cell_type": "code",
   "execution_count": null,
   "metadata": {},
   "outputs": [],
   "source": [
    "def autocorrelation_time(x):\n",
    "    L, m = x.shape\n",
    "    tau = []\n",
    "    for i in range(m):\n",
    "        unnorm = np.correlate(x[:,i], x[:,i], mode='full')\n",
    "        acorr = unnorm[L-1:] / unnorm[L-1]\n",
    "        res = 1\n",
    "        for j in range(L):\n",
    "            rpho = acorr[j]\n",
    "            if abs(rpho) < 0.05:\n",
    "                break\n",
    "            res = res + rpho\n",
    "        tau.append(res)\n",
    "    return np.mean(tau)"
   ]
  },
  {
   "cell_type": "code",
   "execution_count": null,
   "metadata": {},
   "outputs": [],
   "source": [
    "N_SAMPLES = 200000\n",
    "true_cov = np.array([[1, 0.9], \n",
    "                     [0.9, 1]])\n",
    "res_sgld = []\n",
    "\n",
    "etaSGLD = 0.22\n",
    "\n",
    "BURN_IN = 10000\n",
    "for i in range(6):\n",
    "    step = etaSGLD * (0.8**(i)) \n",
    "    samples_sgld = sample_sgld(step, N_SAMPLES)[BURN_IN:]\n",
    "    cov_est_sgld = np.cov(samples_sgld, rowvar=False)\n",
    "    cov_err_sgld = np.sum(np.absolute(cov_est_sgld-true_cov))\n",
    "    acorrt_sgld = autocorrelation_time(samples_sgld)\n",
    "    res_sgld.append((cov_err_sgld, acorrt_sgld))"
   ]
  },
  {
   "cell_type": "code",
   "execution_count": null,
   "metadata": {},
   "outputs": [],
   "source": [
    "res_sgld"
   ]
  },
  {
   "cell_type": "code",
   "execution_count": null,
   "metadata": {},
   "outputs": [],
   "source": [
    "N_SAMPLES = 300000\n",
    "N_REPEATS = 1\n",
    "res_sghmc = []\n",
    "true_cov = np.array([[1, 0.9], \n",
    "                     [0.9, 1]])\n",
    "BURN_IN = 10000\n",
    "etaSGHMC = 0.1;\n",
    "for step in [0.15,0.125,0.1,0.075,0.05]:\n",
    "    mean_cov_est_sghmc = 0\n",
    "    acorrt_sghmc = 0\n",
    "    for _ in range(N_REPEATS):\n",
    "        samples_sghmc = sample_sghmc(step, 1, int(N_SAMPLES))[BURN_IN:]\n",
    "        cov_est_sghmc = np.cov(samples_sghmc, rowvar=False) \n",
    "        print(cov_est_sghmc)\n",
    "        mean_cov_est_sghmc += cov_est_sghmc/N_REPEATS\n",
    "        acorrt_sghmc += autocorrelation_time(samples_sghmc)/N_REPEATS\n",
    "    res_sghmc.append((np.sum(np.absolute(mean_cov_est_sghmc-true_cov)), acorrt_sghmc))"
   ]
  },
  {
   "cell_type": "code",
   "execution_count": null,
   "metadata": {},
   "outputs": [],
   "source": [
    "res_sghmc"
   ]
  },
  {
   "cell_type": "code",
   "execution_count": null,
   "metadata": {},
   "outputs": [],
   "source": [
    "plt.plot([x[1] for x in res_sghmc], [x[0] for x in res_sghmc], label=\"SGHMC\")\n",
    "plt.plot([x[1] for x in res_sgld], [x[0] for x in res_sgld], label=\"SGLD\")\n",
    "plt.xlabel(\"Autocorrelation Time\")\n",
    "plt.ylabel(\"Covariance Est. Error\")\n",
    "plt.legend()\n",
    "plt.show()"
   ]
  },
  {
   "cell_type": "markdown",
   "metadata": {},
   "source": [
    "## Figure 3b"
   ]
  },
  {
   "cell_type": "code",
   "execution_count": null,
   "metadata": {},
   "outputs": [],
   "source": [
    "samples_sgld = sample_sgld(0.1, 50)\n",
    "samples_sghmc = sample_sghmc(0.1, 50)\n",
    "\n",
    "sns.kdeplot(underlying[:,0], underlying[:,1], n_levels=7, cmap='hsv')\n",
    "plt.scatter(samples_sgld[:,0], samples_sgld[:,1], marker='x', label='SGLD')\n",
    "plt.scatter(samples_sghmc[:,0], samples_sghmc[:,1], marker='o', facecolors='none', edgecolors='red', label='SGHMC')\n",
    "plt.legend()\n",
    "plt.xlim(-2, 2)\n",
    "plt.ylim(-2, 2.5)\n",
    "plt.show()"
   ]
  },
  {
   "cell_type": "markdown",
   "metadata": {},
   "source": [
    "# Exploring Friction"
   ]
  },
  {
   "cell_type": "code",
   "execution_count": null,
   "metadata": {},
   "outputs": [],
   "source": [
    "from algorithms.dist_divergence import DistDivergence\n",
    "import math\n",
    "def very_noisy_grad(x):\n",
    "    return potential_grad(x) + np.random.normal(0,math.sqrt(20))\n",
    "\n",
    "\n",
    "log_volume = 1.67992624289378653348\n",
    "div_est = DistDivergence(lambda x: -potential_energy(x)-log_volume)"
   ]
  },
  {
   "cell_type": "code",
   "execution_count": null,
   "metadata": {},
   "outputs": [],
   "source": [
    "klds = []\n",
    "NUM_SAMPLES = 15000\n",
    "for friction in range(0,20):\n",
    "    print(friction)\n",
    "    samples_sghmc = run_simulation_sghmc(\n",
    "        sample_count=NUM_SAMPLES, initial_params=np.array([1.0]), step_size=0.1,\n",
    "        posterior=very_noisy_grad, mass=np.array([[1.0]]),\n",
    "        C=np.array([[friction]]), B=np.array([[0]]))\n",
    "    klds.append(div_est.kld(samples_sghmc))"
   ]
  },
  {
   "cell_type": "code",
   "execution_count": null,
   "metadata": {},
   "outputs": [],
   "source": [
    "klds_correct = []\n",
    "NUM_SAMPLES = 10000\n",
    "for friction in range(1,20):\n",
    "    print(friction)\n",
    "    samples_sghmc = run_simulation_sghmc(\n",
    "        sample_count=NUM_SAMPLES, initial_params=np.array([1.0]), step_size=0.1,\n",
    "        posterior=very_noisy_grad, mass=np.array([[1.0]]),\n",
    "        C=np.array([[friction]]), B=np.array([[1]]))\n",
    "    klds_correct.append(div_est.kld(samples_sghmc))"
   ]
  },
  {
   "cell_type": "code",
   "execution_count": null,
   "metadata": {},
   "outputs": [],
   "source": [
    "plt.plot(range(1,20), klds[1:], label=\"B^=0\")\n",
    "plt.plot(range(1,20), klds_correct, label=\"B^=B\")\n",
    "plt.xlabel(\"C\")\n",
    "plt.ylabel(\"KL Divergence\")\n",
    "plt.title(\"Bimodal Quartic\")\n",
    "plt.legend()\n",
    "plt.show()"
   ]
  },
  {
   "cell_type": "markdown",
   "metadata": {},
   "source": [
    "## Himmelblau"
   ]
  },
  {
   "cell_type": "code",
   "execution_count": null,
   "metadata": {},
   "outputs": [],
   "source": [
    "import experiments.synthetic_3d as s3d\n",
    "val, grad = s3d.himmelblau()\n",
    "noisy_grad = lambda x: grad(x) + np.random.normal(0, math.sqrt(20), 2)\n",
    "div_est_himmel = DistDivergence(lambda x: -val(x)-3.6590944696232746)"
   ]
  },
  {
   "cell_type": "code",
   "execution_count": null,
   "metadata": {},
   "outputs": [],
   "source": [
    "klds = []\n",
    "klds_correct = []\n",
    "NUM_SAMPLES = 100000\n",
    "for friction in range(2,20,2):\n",
    "    print(friction)\n",
    "    samples_sghmc = run_simulation_sghmc(\n",
    "        sample_count=NUM_SAMPLES, initial_params=np.array([1.0,1.0]), step_size=0.1,\n",
    "        posterior=noisy_grad, mass=np.eye(2),\n",
    "        C=friction*np.eye(2), B=0*np.eye(2))\n",
    "    klds.append(div_est_himmel.kld(samples_sghmc))\n",
    "    samples_sghmc = run_simulation_sghmc(\n",
    "        sample_count=NUM_SAMPLES, initial_params=np.array([1.0,1.0]), step_size=0.1,\n",
    "        posterior=noisy_grad, mass=np.eye(2),\n",
    "        C=friction*np.eye(2), B=np.eye(2))\n",
    "    klds_correct.append(div_est_himmel.kld(samples_sghmc))"
   ]
  },
  {
   "cell_type": "code",
   "execution_count": null,
   "metadata": {},
   "outputs": [],
   "source": [
    "plt.plot(range(2,20,2), klds, label=\"B^=0\")\n",
    "plt.plot(range(2,20,2), klds_correct, label=\"B^=B\")\n",
    "plt.xlabel(\"C\")\n",
    "plt.ylabel(\"KL Divergence\")\n",
    "plt.title(\"Himmelblau\")\n",
    "plt.legend()\n",
    "plt.show()"
   ]
  },
  {
   "cell_type": "markdown",
   "metadata": {},
   "source": [
    "# Rosenbrock"
   ]
  },
  {
   "cell_type": "code",
   "execution_count": null,
   "metadata": {},
   "outputs": [],
   "source": [
    "import experiments.synthetic_3d as s3d\n",
    "val, grad = s3d.rosenbrock()\n",
    "noisy_grad = lambda x: grad(x) + np.random.normal(0, math.sqrt(20), 2)\n",
    "div_est_rosen = DistDivergence(lambda x: -val(x)-3.7157366201462643)"
   ]
  },
  {
   "cell_type": "code",
   "execution_count": null,
   "metadata": {},
   "outputs": [],
   "source": [
    "klds = []\n",
    "klds_correct = []\n",
    "NUM_SAMPLES = 100000\n",
    "for friction in range(2,20,2):\n",
    "    print(friction)\n",
    "    samples_sghmc = run_simulation_sghmc(\n",
    "        sample_count=NUM_SAMPLES, initial_params=np.array([1.0,1.0]), step_size=0.1,\n",
    "        posterior=noisy_grad, mass=np.eye(2),\n",
    "        C=friction*np.eye(2), B=0*np.eye(2))\n",
    "    klds.append(div_est_rosen.kld(samples_sghmc))\n",
    "    samples_sghmc = run_simulation_sghmc(\n",
    "        sample_count=NUM_SAMPLES, initial_params=np.array([1.0,1.0]), step_size=0.1,\n",
    "        posterior=noisy_grad, mass=np.eye(2),\n",
    "        C=friction*np.eye(2), B=np.eye(2))\n",
    "    klds_correct.append(div_est_rosen.kld(samples_sghmc))"
   ]
  },
  {
   "cell_type": "code",
   "execution_count": null,
   "metadata": {},
   "outputs": [],
   "source": [
    "plt.plot(range(2,20,2), klds, label=\"B^=0\")\n",
    "plt.plot(range(2,20,2), klds_correct, label=\"B^=B\")\n",
    "plt.xlabel(\"C\")\n",
    "plt.ylabel(\"KL Divergence\")\n",
    "plt.title(\"Rosenbrock\")\n",
    "plt.legend()\n",
    "plt.show()"
   ]
  }
 ],
 "metadata": {
  "kernelspec": {
   "display_name": "Python 3",
   "language": "python",
   "name": "python3"
  },
  "language_info": {
   "codemirror_mode": {
    "name": "ipython",
    "version": 3
   },
   "file_extension": ".py",
   "mimetype": "text/x-python",
   "name": "python",
   "nbconvert_exporter": "python",
   "pygments_lexer": "ipython3",
   "version": "3.7.4"
  }
 },
 "nbformat": 4,
 "nbformat_minor": 4
}
