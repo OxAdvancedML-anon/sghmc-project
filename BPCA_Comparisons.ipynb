{
 "cells": [
  {
   "cell_type": "code",
   "execution_count": 1,
   "metadata": {
    "colab": {},
    "colab_type": "code",
    "id": "Q3ipklaKfVEx"
   },
   "outputs": [],
   "source": [
    "import matplotlib.pyplot as plt"
   ]
  },
  {
   "cell_type": "code",
   "execution_count": 2,
   "metadata": {
    "colab": {},
    "colab_type": "code",
    "id": "3ObuD8F3fVE1"
   },
   "outputs": [],
   "source": [
    "from tqdm import tqdm"
   ]
  },
  {
   "cell_type": "code",
   "execution_count": 3,
   "metadata": {
    "colab": {},
    "colab_type": "code",
    "id": "BNnN0WbrfVE4"
   },
   "outputs": [],
   "source": [
    "import numpy as np\n",
    "np.set_printoptions(precision=5, suppress=True)\n",
    "import scipy as sp\n",
    "from scipy import stats, special"
   ]
  },
  {
   "cell_type": "code",
   "execution_count": 4,
   "metadata": {},
   "outputs": [],
   "source": [
    "from algorithms import HMC, SGLD, SGHMC\n",
    "from experiments.pca.helpers import loggamma_logpdf, vectorize_params, unvectorize_params\n",
    "from experiments.pca.bpca import BPCA"
   ]
  },
  {
   "cell_type": "code",
   "execution_count": 5,
   "metadata": {
    "colab": {},
    "colab_type": "code",
    "id": "4UY1CDvafVE7"
   },
   "outputs": [],
   "source": [
    "N = 300\n",
    "# hyperparameters\n",
    "shape_alpha = 0.7 # keep this small to flatten distribution\n",
    "scale_alpha = 4.0\n",
    "beta = 0.5\n",
    "shape_tau = 0.7\n",
    "scale_tau = 1.0\n",
    "\n",
    "# N, d would be derived from dataset not other way round\n",
    "d = 10\n",
    "q = d-1\n",
    "\n",
    "stochastic_batch_size = 30"
   ]
  },
  {
   "cell_type": "code",
   "execution_count": 6,
   "metadata": {
    "colab": {},
    "colab_type": "code",
    "id": "1blQS7T1fVE-"
   },
   "outputs": [],
   "source": [
    "mu = np.random.multivariate_normal(np.zeros(d), np.identity(d) / beta).reshape((d,))\n",
    "alpha = np.log(np.random.gamma(shape_alpha, scale_alpha, size=(q,)))\n",
    "W = np.random.multivariate_normal(\n",
    "    np.zeros((d, q)).ravel(), \n",
    "    np.kron(np.identity(d), np.identity(q) * 1/np.exp(alpha))).reshape((d,q))\n",
    "tau = np.log(np.random.gamma(shape_tau, scale_tau))\n",
    "params = np.concatenate((\n",
    "        W.ravel(), mu, np.array(tau).reshape(1,), alpha))\n",
    "\n",
    "cov = np.diag(np.array([10,6,6,3,1,1,1,1,1,1])**2)\n",
    "data = np.random.multivariate_normal(np.zeros(d), cov, size=N)"
   ]
  },
  {
   "cell_type": "code",
   "execution_count": 7,
   "metadata": {
    "colab": {
     "base_uri": "https://localhost:8080/",
     "height": 102
    },
    "colab_type": "code",
    "id": "50QuH74ffVFB",
    "outputId": "70540015-69ec-493c-939c-13d29b27f18a",
    "scrolled": true
   },
   "outputs": [
    {
     "name": "stdout",
     "output_type": "stream",
     "text": [
      "alpha log prior -14.26269149411923\n",
      "tau log prior -1.594335597666158\n",
      "W log prior 12.880170226152712\n",
      "mu log prior -25.44839099626499\n",
      "potential energy 10423.389303844988\n"
     ]
    }
   ],
   "source": [
    "# Init BPCA\n",
    "bpca = BPCA(shape_alpha=shape_alpha, scale_alpha=scale_alpha, beta=beta, shape_tau=shape_tau,\n",
    "            scale_tau=scale_tau)\n",
    "bpca.setup(data, q)\n",
    "\n",
    "print('alpha log prior', bpca.log_prior_alpha(alpha))\n",
    "print('tau log prior', bpca.log_prior_tau(tau))\n",
    "print('W log prior', bpca.log_prior_W(W, alpha))\n",
    "print('mu log prior', bpca.log_prior_mu(mu))\n",
    "print('potential energy', bpca.potential_energy(data, W, mu, tau, alpha))\n"
   ]
  },
  {
   "cell_type": "code",
   "execution_count": 8,
   "metadata": {
    "colab": {
     "base_uri": "https://localhost:8080/",
     "height": 34
    },
    "colab_type": "code",
    "id": "YnvU8VsCfVFG",
    "outputId": "803c2212-9a79-4920-dbc8-1e601a644ae6"
   },
   "outputs": [
    {
     "data": {
      "text/plain": [
       "0.19728137999420495"
      ]
     },
     "execution_count": 8,
     "metadata": {},
     "output_type": "execute_result"
    }
   ],
   "source": [
    "np.exp(tau)"
   ]
  },
  {
   "cell_type": "code",
   "execution_count": 9,
   "metadata": {
    "colab": {
     "base_uri": "https://localhost:8080/",
     "height": 51
    },
    "colab_type": "code",
    "id": "5h6uXCQRfVFJ",
    "outputId": "8d6a2591-3237-40c7-c812-5aa55a7cec6b"
   },
   "outputs": [
    {
     "data": {
      "text/plain": [
       "array([7.37722, 6.17137, 0.83575, 0.33579, 2.98218, 0.37347, 2.40275,\n",
       "       3.35711, 7.98814])"
      ]
     },
     "execution_count": 9,
     "metadata": {},
     "output_type": "execute_result"
    }
   ],
   "source": [
    "np.exp(alpha)"
   ]
  },
  {
   "cell_type": "markdown",
   "metadata": {
    "colab_type": "text",
    "id": "iHOdfuetfVFM"
   },
   "source": [
    "## Samplers"
   ]
  },
  {
   "cell_type": "code",
   "execution_count": 10,
   "metadata": {
    "colab": {},
    "colab_type": "code",
    "id": "XXLxI8ZMfVFN"
   },
   "outputs": [],
   "source": [
    "its = 50000\n",
    "stochastic_batch_size = 30\n",
    "# Note (N / batch_size) should divide runs to ensure data is seen equally"
   ]
  },
  {
   "cell_type": "markdown",
   "metadata": {
    "colab_type": "text",
    "id": "BcEGESvHfVFP"
   },
   "source": [
    "#### HMC Setup"
   ]
  },
  {
   "cell_type": "code",
   "execution_count": null,
   "metadata": {
    "colab": {},
    "colab_type": "code",
    "id": "-RNkKKgsfVFP"
   },
   "outputs": [],
   "source": [
    "hmc_sampler = HMC(potential_grad=bpca.vectorized_grad_U, mass=np.identity(params.shape[0]), \n",
    "        step_size=0.005, step_count=3)"
   ]
  },
  {
   "cell_type": "code",
   "execution_count": null,
   "metadata": {
    "colab": {},
    "colab_type": "code",
    "id": "YmPmwn8ffVFS"
   },
   "outputs": [],
   "source": [
    "hmc_mh_sampler = HMC(potential_grad=bpca.vectorized_grad_U, mass=np.identity(params.shape[0]), \n",
    "        step_size=0.005, step_count=3, potential_energy=bpca.vectorized_U)"
   ]
  },
  {
   "cell_type": "markdown",
   "metadata": {
    "colab_type": "text",
    "id": "jwE-96D8fVFV"
   },
   "source": [
    "#### SGLD Setup"
   ]
  },
  {
   "cell_type": "code",
   "execution_count": 11,
   "metadata": {
    "colab": {},
    "colab_type": "code",
    "id": "RFW6dHlGfVFW"
   },
   "outputs": [],
   "source": [
    "# sgld_it = int(runs * (N / batch_size))\n",
    "gamma = 0.55\n",
    "eps_0 = 0.01\n",
    "eps_n = 0.0005\n",
    "b = its / (np.exp(np.log(eps_0 / eps_n) / gamma) - 1)\n",
    "a = eps_0 / b ** (-gamma)\n",
    "\n",
    "eps_t = lambda t: a * (b + t) ** (-gamma)\n",
    "\n",
    "sgld_sampler = SGLD(potential_grad=bpca.vectorized_grad_U, step_size=eps_t)"
   ]
  },
  {
   "cell_type": "markdown",
   "metadata": {
    "colab_type": "text",
    "id": "Epf5Iyl7fVFY"
   },
   "source": [
    "#### SGHMC Setups\n",
    "\n",
    "All with decaying step size 0.01 -> 0.0005\n",
    "- 3 steps\n",
    "- 10 steps\n",
    "- 3 steps (no resampling)\n",
    "- 10 steps (no resampling)"
   ]
  },
  {
   "cell_type": "code",
   "execution_count": 12,
   "metadata": {},
   "outputs": [],
   "source": [
    "def run_sghmc(start_params, its, resample_momentum=True, **sampler_kwargs):\n",
    "    sampler = SGHMC(\n",
    "        potential_grad=bpca.vectorized_grad_U, \n",
    "        mass=np.eye(params.size),\n",
    "        friction_term=np.eye(params.size),\n",
    "        **sampler_kwargs)\n",
    "    bpca.reset_sampler(batch_size=stochastic_batch_size)\n",
    "    trace = bpca.run(sampler=sampler, \n",
    "                     iterations=its, \n",
    "                     start_params=start_params, \n",
    "                     resample_momentum=resample_momentum)\n",
    "    return trace\n",
    "    "
   ]
  },
  {
   "cell_type": "code",
   "execution_count": 13,
   "metadata": {},
   "outputs": [],
   "source": [
    "sghmc_params = [\n",
    "    {'step_count':3, 'resample_momentum': True, 'step_size': eps_t},\n",
    "    {'step_count':10, 'resample_momentum': True, 'step_size': eps_t},\n",
    "    {'step_count':3, 'resample_momentum': False, 'step_size': eps_t},\n",
    "    {'step_count':10, 'resample_momentum': False, 'step_size': eps_t},\n",
    "]\n",
    "sghmc_labels = [\n",
    "    'SGHMC 3 steps', 'SGHMC 10 steps', \n",
    "    'SGHMC 3 steps, no resample', 'SGHMC 10 steps, no resample']\n"
   ]
  },
  {
   "cell_type": "code",
   "execution_count": 14,
   "metadata": {},
   "outputs": [
    {
     "name": "stderr",
     "output_type": "stream",
     "text": [
      "100%|██████████| 50000/50000 [01:53<00:00, 439.37it/s]\n",
      "100%|██████████| 50000/50000 [06:08<00:00, 135.70it/s]\n",
      "100%|██████████| 50000/50000 [02:06<00:00, 396.68it/s]\n",
      "100%|██████████| 50000/50000 [06:18<00:00, 132.09it/s]\n"
     ]
    }
   ],
   "source": [
    "sghmc_traces = [run_sghmc(params, its, **sp) for sp in sghmc_params]"
   ]
  },
  {
   "cell_type": "code",
   "execution_count": 15,
   "metadata": {
    "colab": {
     "base_uri": "https://localhost:8080/",
     "height": 34
    },
    "colab_type": "code",
    "id": "-a_XbRYUfVFj",
    "outputId": "ccfbf745-1ad5-4590-bceb-09c5e96d4e4d"
   },
   "outputs": [
    {
     "name": "stderr",
     "output_type": "stream",
     "text": [
      "100%|██████████| 50000/50000 [00:36<00:00, 1385.67it/s]\n"
     ]
    }
   ],
   "source": [
    "bpca.reset_sampler(batch_size=stochastic_batch_size)\n",
    "sgld_trace = bpca.run(sampler=sgld_sampler, iterations=its, start_params=params)"
   ]
  },
  {
   "cell_type": "code",
   "execution_count": null,
   "metadata": {
    "colab": {
     "base_uri": "https://localhost:8080/",
     "height": 34
    },
    "colab_type": "code",
    "id": "8BjESBGBfVFe",
    "outputId": "db9aeecf-787e-45c4-b270-b6038f8eaa08"
   },
   "outputs": [],
   "source": [
    "bpca.reset_sampler(batch_size=N)\n",
    "hmc_trace = bpca.run(sampler=hmc_sampler, iterations=its, start_params=params)"
   ]
  },
  {
   "cell_type": "code",
   "execution_count": null,
   "metadata": {
    "colab": {
     "base_uri": "https://localhost:8080/",
     "height": 34
    },
    "colab_type": "code",
    "id": "IWdOFFNLfVFh",
    "outputId": "59ccf8ed-be0f-4716-b986-ebdc863346d7"
   },
   "outputs": [],
   "source": [
    "bpca.reset_sampler(batch_size=N)\n",
    "hmc_mh_trace = bpca.run(sampler=hmc_mh_sampler, iterations=its, start_params=params)"
   ]
  },
  {
   "cell_type": "markdown",
   "metadata": {
    "colab_type": "text",
    "id": "w5bXekKDfVFp"
   },
   "source": [
    "## Results"
   ]
  },
  {
   "cell_type": "code",
   "execution_count": 16,
   "metadata": {
    "colab": {},
    "colab_type": "code",
    "id": "FWVmsbgXfVFp"
   },
   "outputs": [],
   "source": [
    "def mean_samples(samples, burn_in=1000):\n",
    "    Ws = np.array([s[0] for s in samples[burn_in:]])\n",
    "    mean_w = Ws.mean(axis=0)\n",
    "    mus = np.array([s[1] for s in samples[burn_in:]])\n",
    "    mean_mu = np.mean(mus, axis=0)\n",
    "    taus = np.array([np.exp(s[2]) for s in samples[burn_in:]])\n",
    "    mean_tau = taus.mean(axis=0)\n",
    "    alphas = np.array([np.exp(s[3]) for s in samples[burn_in:]])\n",
    "    mean_alpha = np.mean(alphas, axis=0)\n",
    "    return mean_w, mean_mu, mean_tau, mean_alpha\n",
    "\n",
    "def unvectorize_trace(trace):\n",
    "    return list(map(lambda s: unvectorize_params(s, N, d, q), trace))\n",
    "\n",
    "def log_likelihoods(samples):\n",
    "    return list(map(lambda p: bpca.log_likelihood(data, *p), tqdm(samples)))\n",
    "\n",
    "def effective_dims(alpha):\n",
    "    sum_alpha = np.sum(1 / alpha)\n",
    "    return np.array([i for i, inv_alpha in enumerate(1/alpha) \n",
    "                     if inv_alpha > sum_alpha / q])\n",
    "\n",
    "def fitted_cov(W, tau, alpha, ed=None):\n",
    "    if ed is None:\n",
    "        ed = effective_dims(alpha)\n",
    "    ed_W = W[:, ed]\n",
    "    return np.eye(d) / tau + ed_W @ ed_W.T\n"
   ]
  },
  {
   "cell_type": "code",
   "execution_count": 17,
   "metadata": {
    "colab": {},
    "colab_type": "code",
    "id": "4H7ZJ0lwfVFr"
   },
   "outputs": [],
   "source": [
    "def moving_average(a, n=3) :\n",
    "    ret = np.cumsum(a, dtype=float)\n",
    "    ret[n:] = ret[n:] - ret[:-n]\n",
    "    return ret[n - 1:] / n"
   ]
  },
  {
   "cell_type": "code",
   "execution_count": 18,
   "metadata": {},
   "outputs": [],
   "source": [
    "def summarise(trace, burn_in=1000):\n",
    "    samples = unvectorize_trace(trace)\n",
    "    means = mean_samples(samples, burn_in)\n",
    "    taus = [np.exp(s[2]) for s in samples]\n",
    "    alphas = [np.exp(s[3]) for s in samples]\n",
    "    cov = fitted_cov(W=means[0], tau=means[2], alpha=means[3])\n",
    "    ed = effective_dims(means[3])\n",
    "    return samples, means, taus, alphas, cov, ed"
   ]
  },
  {
   "cell_type": "code",
   "execution_count": 19,
   "metadata": {
    "colab": {},
    "colab_type": "code",
    "id": "62r5ZIcafVFv"
   },
   "outputs": [],
   "source": [
    "burn_in = 1000"
   ]
  },
  {
   "cell_type": "code",
   "execution_count": null,
   "metadata": {},
   "outputs": [],
   "source": [
    "(hmc_samples, hmc_means, hmc_taus, \n",
    " hmc_alphas, hmc_cov, hmc_ed) = summarise(hmc_trace, burn_in=burn_in)\n",
    "\n",
    "print('HMC ed:', hmc_ed)\n",
    "print('HMC tau:', hmc_means[2])\n",
    "print('HMC alpha:', hmc_means[3])"
   ]
  },
  {
   "cell_type": "code",
   "execution_count": null,
   "metadata": {},
   "outputs": [],
   "source": [
    "(hmc_mh_samples, hmc_mh_means, hmc_mh_taus, \n",
    " hmc_mh_alphas, hmc_mh_cov, hmc_mh_ed) = summarise(hmc_mh_trace, burn_in=burn_in)\n",
    "\n",
    "print('HMC MH ed:', hmc_ed)\n",
    "print('HMC MH tau:', hmc_means[2])\n",
    "print('HMC MH alpha:', hmc_means[3])"
   ]
  },
  {
   "cell_type": "code",
   "execution_count": 20,
   "metadata": {},
   "outputs": [
    {
     "name": "stdout",
     "output_type": "stream",
     "text": [
      "SGLD ed: [1 5 6 8]\n",
      "SGLD tau: 1.100532523989444\n",
      "SGLD alpha: [ 8.26865  0.18021  9.8446   7.88381 12.23373  0.23842  0.30375 11.16062\n",
      "  0.5829 ]\n"
     ]
    }
   ],
   "source": [
    "(sgld_samples, sgld_means, sgld_taus, sgld_alphas,\n",
    " sgld_cov, sgld_ed) = summarise(sgld_trace, burn_in=burn_in)\n",
    "\n",
    "print('SGLD ed:', sgld_ed)\n",
    "print('SGLD tau:', sgld_means[2])\n",
    "print('SGLD alpha:', sgld_means[3])"
   ]
  },
  {
   "cell_type": "code",
   "execution_count": 21,
   "metadata": {},
   "outputs": [],
   "source": [
    "sghmc_results = list(map(lambda tr: summarise(tr, burn_in=burn_in), sghmc_traces))"
   ]
  },
  {
   "cell_type": "code",
   "execution_count": 22,
   "metadata": {},
   "outputs": [
    {
     "name": "stdout",
     "output_type": "stream",
     "text": [
      "SGLD Frobenius Error: 17.404518064089732\n",
      "SGHMC 0 Frobenius Error: 39.36747964897931\n",
      "SGHMC 1 Frobenius Error: 24.207994460701954\n",
      "SGHMC 2 Frobenius Error: 15.349357984533395\n",
      "SGHMC 3 Frobenius Error: 16.424855151096367\n"
     ]
    }
   ],
   "source": [
    "# print('HMC Frobenius Error:', np.linalg.norm(cov - hmc_cov))\n",
    "# print('HMC + MH Frobenius Error:', np.linalg.norm(cov - hmc_mh_cov))\n",
    "print('SGLD Frobenius Error:', np.linalg.norm(cov - sgld_cov))\n",
    "\n",
    "for i, res in enumerate(sghmc_results):\n",
    "    print('SGHMC',i,'Frobenius Error:', np.linalg.norm(cov - res[4]))"
   ]
  },
  {
   "cell_type": "code",
   "execution_count": 23,
   "metadata": {},
   "outputs": [],
   "source": [
    "def plot_mat(cov, title, pos=111):\n",
    "    plt.subplot(pos)\n",
    "    plt.axis('off')\n",
    "    plt.imshow(cov)\n",
    "    plt.title(title, fontsize=20)"
   ]
  },
  {
   "cell_type": "code",
   "execution_count": 31,
   "metadata": {},
   "outputs": [
    {
     "data": {
      "image/png": "[encoded data removed]",
      "text/plain": [
       "<Figure size 1368x936 with 6 Axes>"
      ]
     },
     "metadata": {
      "needs_background": "light"
     },
     "output_type": "display_data"
    }
   ],
   "source": [
    "plt.figure(figsize=(19,13))\n",
    "plot_mat(cov, 'original covariance', 231)\n",
    "plot_mat(sgld_cov, 'SGLD (ed={}) \\nError: {:.2f}'.format(sgld_ed.size, np.linalg.norm(cov - sgld_cov)), 232)\n",
    "\n",
    "label_top_str = '{} (ed={}) \\nError: {:.2f}'\n",
    "label_bot_str = '{} \\n(ed={}) \\nError: {:.2f}'\n",
    "for i, res in enumerate(sghmc_results):\n",
    "    label = label_bot_str if i else label_top_str\n",
    "    error = np.linalg.norm(cov - res[4])\n",
    "    plot_mat(res[4], label.format(sghmc_labels[i], res[5].size, error), 233+i)\n",
    "plt.savefig('ablation_matrices.png', dpi=200)"
   ]
  },
  {
   "cell_type": "code",
   "execution_count": null,
   "metadata": {
    "colab": {
     "base_uri": "https://localhost:8080/",
     "height": 34
    },
    "colab_type": "code",
    "id": "l2ebZLgBfVGE",
    "outputId": "9cc7d82b-4faa-4763-eba9-a23d4c04a17b"
   },
   "outputs": [],
   "source": [
    "hmc_lls = log_likelihoods(hmc_samples)"
   ]
  },
  {
   "cell_type": "code",
   "execution_count": null,
   "metadata": {
    "colab": {
     "base_uri": "https://localhost:8080/",
     "height": 34
    },
    "colab_type": "code",
    "id": "KSibLt7jgnxk",
    "outputId": "7afb8214-9eae-4e98-a820-702430cb54d3"
   },
   "outputs": [],
   "source": [
    "hmc_mh_lls = log_likelihoods(hmc_mh_samples)"
   ]
  },
  {
   "cell_type": "code",
   "execution_count": 25,
   "metadata": {
    "colab": {
     "base_uri": "https://localhost:8080/",
     "height": 34
    },
    "colab_type": "code",
    "id": "Q0TGZSfsfVGG",
    "outputId": "990934f2-5f5b-4917-e105-11b948e19c65"
   },
   "outputs": [
    {
     "name": "stderr",
     "output_type": "stream",
     "text": [
      "100%|██████████| 50001/50001 [01:26<00:00, 577.51it/s]\n"
     ]
    }
   ],
   "source": [
    "sgld_lls = log_likelihoods(sgld_samples)"
   ]
  },
  {
   "cell_type": "code",
   "execution_count": 26,
   "metadata": {
    "scrolled": true
   },
   "outputs": [
    {
     "name": "stderr",
     "output_type": "stream",
     "text": [
      "100%|██████████| 50001/50001 [01:27<00:00, 571.78it/s]\n",
      "100%|██████████| 50001/50001 [01:33<00:00, 536.31it/s]\n",
      "100%|██████████| 50001/50001 [01:32<00:00, 537.82it/s]\n",
      "100%|██████████| 50001/50001 [01:29<00:00, 560.03it/s]\n"
     ]
    }
   ],
   "source": [
    "sghmc_lls = list(map(lambda res: log_likelihoods(res[0]), sghmc_results))"
   ]
  },
  {
   "cell_type": "code",
   "execution_count": 49,
   "metadata": {
    "colab": {
     "base_uri": "https://localhost:8080/",
     "height": 378
    },
    "colab_type": "code",
    "id": "BdtzHbpAfVGL",
    "outputId": "fd9c547a-a192-4135-b823-d517e8f78d10"
   },
   "outputs": [
    {
     "name": "stderr",
     "output_type": "stream",
     "text": [
      "/Users/laurencewatts/Documents/Oxford/PartC/AdvancedML/OxML-Group1/venv/lib/python3.7/site-packages/ipykernel_launcher.py:17: UserWarning: Creating legend with loc=\"best\" can be slow with large amounts of data.\n",
      "/Users/laurencewatts/Documents/Oxford/PartC/AdvancedML/OxML-Group1/venv/lib/python3.7/site-packages/IPython/core/pylabtools.py:132: UserWarning: Creating legend with loc=\"best\" can be slow with large amounts of data.\n",
      "  fig.canvas.print_figure(bytes_io, **kw)\n"
     ]
    },
    {
     "data": {
      "image/png": "[encoded data removed]",
      "text/plain": [
       "<Figure size 864x432 with 1 Axes>"
      ]
     },
     "metadata": {
      "needs_background": "light"
     },
     "output_type": "display_data"
    }
   ],
   "source": [
    "cut_off = 7000\n",
    "until = 50000\n",
    "ma = 100\n",
    "\n",
    "plt.figure(figsize=(12,6))\n",
    "xs = list(range(cut_off,until-ma+1))\n",
    "plt.plot(xs, moving_average(sgld_lls[cut_off:until], n=ma), label='SGLD')\n",
    "\n",
    "for i, sll in enumerate(sghmc_lls):\n",
    "    plt.plot(xs, moving_average(sll[cut_off:until], n=ma), label=sghmc_labels[i])\n",
    "    \n",
    "# plt.plot(moving_average(hmc_lls[cut_off:], n=ma), label='HMC')\n",
    "# plt.plot(moving_average(hmc_mh_lls[cut_off:], n=ma), label='HMC+MH')\n",
    "plt.ylabel('Log Likelihood')\n",
    "plt.xlabel('Iterations (Moving Avg)')\n",
    "plt.legend()\n",
    "plt.savefig('sghmc_comp_7k_50k_ma100.png', dpi=200)\n",
    "plt.show()"
   ]
  },
  {
   "cell_type": "code",
   "execution_count": null,
   "metadata": {
    "colab": {
     "base_uri": "https://localhost:8080/",
     "height": 85
    },
    "colab_type": "code",
    "id": "oCXonhVcQQ5n",
    "outputId": "6ff60fc8-3c5a-4497-8b45-6486c8d91efd"
   },
   "outputs": [],
   "source": [
    "# Rolling cov mean matrix with frob error plot?\n",
    "def rolling_cov_error(samples, burn_in=1000):\n",
    "    Ws = np.array([s[0] for s in samples[burn_in:]])\n",
    "    taus = np.array([np.exp(s[2]) for s in samples[burn_in:]])\n",
    "    alphas = np.array([np.exp(s[3]) for s in samples[burn_in:]])\n",
    "    errors = []\n",
    "    for i in tqdm(range(1,Ws.shape[0]+1)):\n",
    "        W = Ws[:i].mean(axis=0)\n",
    "        tau = taus[:i].mean(axis=0)\n",
    "        alpha = alphas[:i].mean(axis=0)\n",
    "        fit_cov = fitted_cov(W, tau, alpha)\n",
    "        errors.append(np.linalg.norm(cov - fit_cov))\n",
    "    return errors\n",
    "\n",
    "hmc_cov_errors = rolling_cov_error(hmc_samples, burn_in)\n",
    "hmc_mh_cov_errors = rolling_cov_error(hmc_mh_samples, burn_in)\n",
    "sgld_cov_errors = rolling_cov_error(sgld_samples, burn_in)\n",
    "sghmc_cov_errors = rolling_cov_error(sghmc_samples, burn_in)"
   ]
  },
  {
   "cell_type": "code",
   "execution_count": null,
   "metadata": {
    "colab": {
     "base_uri": "https://localhost:8080/",
     "height": 232
    },
    "colab_type": "code",
    "id": "8wrYPc3GiZXl",
    "outputId": "485db7d0-c1f6-43c1-8371-1a4a2bf9b4c7"
   },
   "outputs": [],
   "source": [
    "cut = 3000\n",
    "\n",
    "# plt.plot(hmc_cov_errors[cut:])\n",
    "N = len(hmc_mh_cov_errors[cut:])\n",
    "xs = list(range(cut, N+cut))\n",
    "plt.figure(figsize=(10,6))\n",
    "plt.plot(xs, hmc_mh_cov_errors[cut:], label='HMC+MH')\n",
    "plt.plot(xs, sgld_cov_errors[cut:], label='SGLD')\n",
    "plt.plot(xs, sghmc_cov_errors[cut:], label='SGHMC')\n",
    "plt.legend()\n",
    "plt.ylabel('Frobenius Norm Error')\n",
    "plt.savefig('frob_error.png', dpi=200)\n",
    "files.download('frob_error.png')\n",
    "plt.show()"
   ]
  },
  {
   "cell_type": "code",
   "execution_count": null,
   "metadata": {
    "colab": {},
    "colab_type": "code",
    "id": "cwVokPXMYAbt"
   },
   "outputs": [],
   "source": []
  }
 ],
 "metadata": {
  "colab": {
   "collapsed_sections": [],
   "name": "BPCA Comparisons.ipynb",
   "provenance": []
  },
  "kernelspec": {
   "display_name": "Python 3",
   "language": "python",
   "name": "python3"
  },
  "language_info": {
   "codemirror_mode": {
    "name": "ipython",
    "version": 3
   },
   "file_extension": ".py",
   "mimetype": "text/x-python",
   "name": "python",
   "nbconvert_exporter": "python",
   "pygments_lexer": "ipython3",
   "version": "3.7.6"
  }
 },
 "nbformat": 4,
 "nbformat_minor": 1
}
